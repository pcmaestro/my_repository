{
 "cells": [
  {
   "cell_type": "code",
   "execution_count": 3,
   "metadata": {},
   "outputs": [
    {
     "data": {
      "text/plain": [
       "tuple"
      ]
     },
     "execution_count": 3,
     "metadata": {},
     "output_type": "execute_result"
    }
   ],
   "source": [
    "##tuplas##\n",
    "\n",
    "tupla_compra = (\"pescado\", \"carne\", \"pasta\", \"pizza\")\n",
    "\n",
    "type(lista_compra)"
   ]
  },
  {
   "cell_type": "code",
   "execution_count": 5,
   "metadata": {},
   "outputs": [
    {
     "name": "stdout",
     "output_type": "stream",
     "text": [
      "pescado\n"
     ]
    }
   ],
   "source": [
    "print(tupla_compra [0])"
   ]
  },
  {
   "cell_type": "code",
   "execution_count": 6,
   "metadata": {},
   "outputs": [],
   "source": [
    "tupla_bebidas = (\"cerveza\", \"leche\", \"coca-cola\")\n",
    "\n",
    "tupla_total = tupla_compra + tupla_bebidas"
   ]
  },
  {
   "cell_type": "code",
   "execution_count": 7,
   "metadata": {},
   "outputs": [
    {
     "name": "stdout",
     "output_type": "stream",
     "text": [
      "('pescado', 'carne', 'pasta', 'pizza', 'cerveza', 'leche', 'coca-cola')\n"
     ]
    }
   ],
   "source": [
    "## No se pueden modificar los elementos de una tupla,  pero si se pueden concatenar varias tuplas ##\n",
    "\n",
    "print(tupla_total)"
   ]
  },
  {
   "cell_type": "code",
   "execution_count": 8,
   "metadata": {},
   "outputs": [
    {
     "name": "stdout",
     "output_type": "stream",
     "text": [
      "7\n"
     ]
    }
   ],
   "source": [
    "    print(len(tupla_total))"
   ]
  },
  {
   "cell_type": "code",
   "execution_count": 9,
   "metadata": {},
   "outputs": [
    {
     "name": "stdout",
     "output_type": "stream",
     "text": [
      "(1, 'hola', 2, 'amigo')\n"
     ]
    }
   ],
   "source": [
    "tupla = (1, \"hola\", 2, \"amigo\")\n",
    "\n",
    "print(tupla)"
   ]
  },
  {
   "cell_type": "code",
   "execution_count": 10,
   "metadata": {},
   "outputs": [
    {
     "name": "stdout",
     "output_type": "stream",
     "text": [
      "tupla borrada\n"
     ]
    }
   ],
   "source": [
    "del tupla\n",
    "\n",
    "print(\"tupla borrada\")"
   ]
  },
  {
   "cell_type": "code",
   "execution_count": 2,
   "metadata": {},
   "outputs": [
    {
     "name": "stdout",
     "output_type": "stream",
     "text": [
      "8\n",
      "13\n"
     ]
    }
   ],
   "source": [
    "#### para localizar posiciones mediante el índice en una tupla hecha de tuplas ####\n",
    "\n",
    "tupla = ((1,2,3,4), (5,6,7,8), (9,10,11,12), (13,14,15,16))\n",
    "\n",
    "print(tupla[1] [3])\n",
    "print(tupla[3] [0])\n",
    "\n"
   ]
  },
  {
   "cell_type": "code",
   "execution_count": 3,
   "metadata": {},
   "outputs": [
    {
     "name": "stdin",
     "output_type": "stream",
     "text": [
      "Dame un nombre en mayusculas y con acentos :  PÉDRÓ CÁSTÉLLÁNÓS MÁÉSTRÓ\n"
     ]
    },
    {
     "name": "stdout",
     "output_type": "stream",
     "text": [
      "Nombre estandarizado  pedro castellanos maestro\n"
     ]
    }
   ],
   "source": [
    "#### Normalizar un string con un bucle (sin usar el método translate) ###\n",
    "\n",
    "a = input(\"Dame un nombre en mayusculas y con acentos : \")\n",
    "\n",
    "b = a.lower()\n",
    "\n",
    "c = len(b)\n",
    "\n",
    "for i in range(c):\n",
    "    b = b.replace(\"á\", \"a\")\n",
    "    b = b.replace(\"é\", \"e\")\n",
    "    b = b.replace(\"í\", \"i\")\n",
    "    b = b.replace(\"ó\", \"o\")\n",
    "    b = b.replace(\"ú\", \"u\")\n",
    "\n",
    "print(\"Nombre estandarizado \", b)"
   ]
  },
  {
   "cell_type": "code",
   "execution_count": 6,
   "metadata": {},
   "outputs": [
    {
     "name": "stdout",
     "output_type": "stream",
     "text": [
      "\n",
      " Intenta adivinar el valor de X \n",
      "\n"
     ]
    },
    {
     "name": "stdin",
     "output_type": "stream",
     "text": [
      "Dime número del 0 al 100:  50\n"
     ]
    },
    {
     "name": "stdout",
     "output_type": "stream",
     "text": [
      "Fallaste, tu número es menor que X, vuelve a intentarlo...\n"
     ]
    },
    {
     "name": "stdin",
     "output_type": "stream",
     "text": [
      "Dime número del 0 al 100:  70\n"
     ]
    },
    {
     "name": "stdout",
     "output_type": "stream",
     "text": [
      "Fallaste, tu número es mayor que X, vuelve a intentarlo...\n"
     ]
    },
    {
     "name": "stdin",
     "output_type": "stream",
     "text": [
      "Dime número del 0 al 100:  60\n"
     ]
    },
    {
     "name": "stdout",
     "output_type": "stream",
     "text": [
      "Fallaste, tu número es menor que X, vuelve a intentarlo...\n"
     ]
    },
    {
     "name": "stdin",
     "output_type": "stream",
     "text": [
      "Dime número del 0 al 100:  65\n"
     ]
    },
    {
     "name": "stdout",
     "output_type": "stream",
     "text": [
      "Fallaste, tu número es mayor que X, vuelve a intentarlo...\n"
     ]
    },
    {
     "name": "stdin",
     "output_type": "stream",
     "text": [
      "Dime número del 0 al 100:  63\n"
     ]
    },
    {
     "name": "stdout",
     "output_type": "stream",
     "text": [
      "Fallaste, tu número es mayor que X, vuelve a intentarlo...\n"
     ]
    },
    {
     "name": "stdin",
     "output_type": "stream",
     "text": [
      "Dime número del 0 al 100:  62\n"
     ]
    },
    {
     "name": "stdout",
     "output_type": "stream",
     "text": [
      "Acertaste !!!\n"
     ]
    }
   ],
   "source": [
    "### Juego para adivinar un número del 0 al 100 ###\n",
    "\n",
    "from random import randint, uniform, random\n",
    "\n",
    "\n",
    "print(\"\\n Intenta adivinar el valor de X \\n\")\n",
    "\n",
    "\n",
    "x = randint(0,100)\n",
    "\n",
    "juego = True\n",
    "\n",
    "while juego:    \n",
    "    \n",
    "    a = int(input(\"Dime número del 0 al 100: \"))    \n",
    "\n",
    "    if a == x:\n",
    "        print(\"Acertaste !!!\")\n",
    "        juego = False\n",
    "\n",
    "    elif a < x:\n",
    "        print(\"Fallaste, tu número es menor que X, vuelve a intentarlo...\")\n",
    "\n",
    "    elif a > x and a <= 100:\n",
    "        print(\"Fallaste, tu número es mayor que X, vuelve a intentarlo...\")\n",
    "\n",
    "    else:\n",
    "        print(\"El número indicado no está entre 0 y 100, vuelve a intentarlo...\")        "
   ]
  },
  {
   "cell_type": "code",
   "execution_count": null,
   "metadata": {},
   "outputs": [],
   "source": []
  }
 ],
 "metadata": {
  "kernelspec": {
   "display_name": "Python 3",
   "language": "python",
   "name": "python3"
  },
  "language_info": {
   "codemirror_mode": {
    "name": "ipython",
    "version": 3
   },
   "file_extension": ".py",
   "mimetype": "text/x-python",
   "name": "python",
   "nbconvert_exporter": "python",
   "pygments_lexer": "ipython3",
   "version": "3.7.4"
  }
 },
 "nbformat": 4,
 "nbformat_minor": 4
}
