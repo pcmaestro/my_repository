{
 "cells": [
  {
   "cell_type": "code",
   "execution_count": 16,
   "metadata": {},
   "outputs": [
    {
     "data": {
      "text/plain": [
       "list"
      ]
     },
     "execution_count": 16,
     "metadata": {},
     "output_type": "execute_result"
    }
   ],
   "source": [
    "lista_compra = [\"carne\", \"pescado\", \"pasta\", 12243, \"2020-02-11\"]\n",
    "\n",
    "type(lista_compra)"
   ]
  },
  {
   "cell_type": "code",
   "execution_count": 5,
   "metadata": {},
   "outputs": [
    {
     "name": "stdout",
     "output_type": "stream",
     "text": [
      "En la lista hay 5 elementos\n"
     ]
    }
   ],
   "source": [
    "lista_compra = [\"carne\", \"pescado\", \"pasta\", 12243, \"2020-02-11\"]\n",
    "\n",
    "print(\"En la lista hay\",len(lista_compra), \"elementos\")"
   ]
  },
  {
   "cell_type": "code",
   "execution_count": 9,
   "metadata": {},
   "outputs": [
    {
     "name": "stdout",
     "output_type": "stream",
     "text": [
      "['carne', 'pescado', 'pasta', 12243, '2020-02-11', 'cerveza']\n",
      "['pescado', 'pasta', 12243, '2020-02-11', 'cerveza']\n",
      "['pescado', 'pasta', 'cereales', 12243, '2020-02-11', 'cerveza']\n",
      "['pescado', 'pasta', 'cereales', 12243, '2020-02-11', 'cerveza', 77777]\n",
      "El pescado está en la posición 0\n"
     ]
    }
   ],
   "source": [
    "lista_compra = [\"carne\", \"pescado\", \"pasta\", 12243, \"2020-02-11\"]\n",
    "\n",
    "lista_compra = lista_compra + [\"cerveza\"]\n",
    "\n",
    "print(lista_compra)\n",
    "\n",
    "\n",
    "lista_compra.remove(\"carne\")\n",
    "\n",
    "print(lista_compra)\n",
    "\n",
    "\n",
    "lista_compra.insert(2, \"cereales\")\n",
    "\n",
    "print(lista_compra)\n",
    "\n",
    "lista_compra.append(77777)\n",
    "\n",
    "print(lista_compra)\n",
    "\n",
    "print(\"El pescado está en la posición\", lista_compra.index(\"pescado\"))"
   ]
  },
  {
   "cell_type": "code",
   "execution_count": 11,
   "metadata": {},
   "outputs": [
    {
     "name": "stdout",
     "output_type": "stream",
     "text": [
      "['vino', 'cerveza', 'aquiarius', 'agua', 'carne', 'pescado', 'pasta']\n",
      "['agua', 'aquiarius', 'carne', 'cerveza', 'pasta', 'pescado', 'vino']\n",
      "['vino', 'pescado', 'pasta', 'cerveza', 'carne', 'aquiarius', 'agua']\n"
     ]
    }
   ],
   "source": [
    "lista_liquidos = [\"vino\", \"cerveza\", \"aquiarius\", \"agua\"]\n",
    "\n",
    "lista_compra = [\"carne\", \"pescado\", \"pasta\"]\n",
    "\n",
    "lista_total = lista_liquidos + lista_compra\n",
    "\n",
    "print(lista_total)\n",
    "\n",
    "lista_total.sort() ###Solo si todos los elementos de la lista son del mismo tipo###\n",
    "\n",
    "print(lista_total)\n",
    "\n",
    "lista_total.reverse()\n",
    "\n",
    "print(lista_total)"
   ]
  },
  {
   "cell_type": "markdown",
   "metadata": {},
   "source": [
    "##Una lista como elemento dentro de otra lista##\n",
    "\n",
    "lista_liquidos = [\"vino\", \"cerveza\", \"aquiarius\", \"agua\"]\n",
    "\n",
    "lista_compra = [\"carne\", \"pescado\", \"pasta\"]\n",
    "\n",
    "lista_liquidos.append(lista_compra)\n",
    "\n",
    "print(lista_liquidos)"
   ]
  },
  {
   "cell_type": "code",
   "execution_count": 13,
   "metadata": {},
   "outputs": [
    {
     "name": "stdout",
     "output_type": "stream",
     "text": [
      "5\n"
     ]
    }
   ],
   "source": [
    "print(len(lista_liquidos))"
   ]
  },
  {
   "cell_type": "code",
   "execution_count": 14,
   "metadata": {},
   "outputs": [
    {
     "name": "stdout",
     "output_type": "stream",
     "text": [
      "['carne', 'pescado', 'pasta']\n"
     ]
    }
   ],
   "source": [
    "### imprime la lista \"empotrada\" en la posición 4,  recordar que la primera es la 0 ###\n",
    "\n",
    "print(lista_liquidos[4])"
   ]
  },
  {
   "cell_type": "code",
   "execution_count": 17,
   "metadata": {},
   "outputs": [
    {
     "name": "stdout",
     "output_type": "stream",
     "text": [
      "lista borrada\n"
     ]
    }
   ],
   "source": [
    "del lista_liquidos\n",
    "\n",
    "print(\"lista borrada\")"
   ]
  },
  {
   "cell_type": "code",
   "execution_count": 2,
   "metadata": {},
   "outputs": [
    {
     "name": "stdout",
     "output_type": "stream",
     "text": [
      "['flores', 'crema repadadora', 'calcetines', 'crema acné', 'bombones', 'ferrari', 'Crucero']\n",
      "['flores', 'crema repadadora', 'crema acné', 'bombones', 'ferrari', 'Crucero']\n"
     ]
    }
   ],
   "source": [
    "### Borrar elementos de listas ###\n",
    "\n",
    "lista_sv = [\"flores\", \"champú\", \"crema repadadora\", \"calcetines\", \"crema acné\" , \"bombones\", \"ferrari\", \"Crucero\"]\n",
    "\n",
    "del lista_sv[1]\n",
    "\n",
    "print(lista_sv)\n",
    "\n",
    "del lista_sv[2]\n",
    "\n",
    "print(lista_sv)"
   ]
  },
  {
   "cell_type": "code",
   "execution_count": 3,
   "metadata": {},
   "outputs": [
    {
     "name": "stdout",
     "output_type": "stream",
     "text": [
      "[0, 1, 2, 3, 4, 5, 6, 7, 8, 9, 10, 11, 12, 13, 14, 15, 16, 17, 18, 19, 20]\n"
     ]
    }
   ],
   "source": [
    "#### Convertir un rango en una lista , en este caso del 0 al 20 ###\n",
    "\n",
    "lista_num = range(21)\n",
    "\n",
    "print(list(lista_num))"
   ]
  },
  {
   "cell_type": "code",
   "execution_count": null,
   "metadata": {},
   "outputs": [],
   "source": []
  }
 ],
 "metadata": {
  "kernelspec": {
   "display_name": "Python 3",
   "language": "python",
   "name": "python3"
  },
  "language_info": {
   "codemirror_mode": {
    "name": "ipython",
    "version": 3
   },
   "file_extension": ".py",
   "mimetype": "text/x-python",
   "name": "python",
   "nbconvert_exporter": "python",
   "pygments_lexer": "ipython3",
   "version": "3.7.4"
  }
 },
 "nbformat": 4,
 "nbformat_minor": 4
}
