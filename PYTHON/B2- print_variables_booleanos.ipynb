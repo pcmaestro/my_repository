{
 "cells": [
  {
   "cell_type": "code",
   "execution_count": 2,
   "metadata": {},
   "outputs": [
    {
     "name": "stdout",
     "output_type": "stream",
     "text": [
      "1\n",
      "2\n",
      "3\n",
      "4\n",
      "5\n",
      "Hola\n",
      "amigo\n",
      "1 2 3 4xxxxx \n",
      "Hola \t amigo\n"
     ]
    }
   ],
   "source": [
    "print(1,2,3,4,5, sep=\"\\n\")\n",
    "\n",
    "print(\"Hola\" , \"amigo\", sep=\"\\n\" )\n",
    "\n",
    "print(1,2,3,4, end=\"xxxxx \\n\")\n",
    "\n",
    "print (\"Hola\", \"\\t amigo\")"
   ]
  },
  {
   "cell_type": "code",
   "execution_count": 6,
   "metadata": {},
   "outputs": [
    {
     "name": "stdout",
     "output_type": "stream",
     "text": [
      " Hoy es lunes \n",
      " mañana es martes \n",
      " y pasado es miercoles\n"
     ]
    }
   ],
   "source": [
    "print(\" Hoy es lunes \\n mañana es martes \\n y pasado es miercoles\")"
   ]
  },
  {
   "cell_type": "code",
   "execution_count": 3,
   "metadata": {},
   "outputs": [
    {
     "name": "stdout",
     "output_type": "stream",
     "text": [
      " Hoy es lunes \n",
      "\t mañana es martes \n",
      "\t y pasado es miercoles\n"
     ]
    }
   ],
   "source": [
    "print(\" Hoy es lunes \\n\\t mañana es martes \\n\\t y pasado es miercoles\")"
   ]
  },
  {
   "cell_type": "code",
   "execution_count": 4,
   "metadata": {},
   "outputs": [
    {
     "name": "stdout",
     "output_type": "stream",
     "text": [
      "Dame un número entero :  10\n",
      "Dame otro número entero : 2\n",
      "El producto es : 20\n"
     ]
    }
   ],
   "source": [
    "a = int(input(\"Dame un número entero :  \"))\n",
    "b = int(input(\"Dame otro número entero : \"))\n",
    "\n",
    "print(\"El producto es :\", a*b)"
   ]
  },
  {
   "cell_type": "code",
   "execution_count": 5,
   "metadata": {},
   "outputs": [
    {
     "name": "stdout",
     "output_type": "stream",
     "text": [
      "Dame un número real :  7.5\n",
      "Dame otro número real : 8.3\n",
      "El producto de 7.5 x 8.3 es : 62.25000000000001\n"
     ]
    }
   ],
   "source": [
    "a = float(input(\"Dame un número real :  \"))\n",
    "b = float(input(\"Dame otro número real : \"))\n",
    "\n",
    "print(\"El producto de\",a ,\"x\", b, \"es :\", a*b)"
   ]
  },
  {
   "cell_type": "code",
   "execution_count": 6,
   "metadata": {},
   "outputs": [
    {
     "name": "stdout",
     "output_type": "stream",
     "text": [
      "Dame un dividendo :  10\n",
      "Dame un divisor : 3\n",
      "El cociente de 10.0 x 3.0 es : 3.3333333333333335\n"
     ]
    }
   ],
   "source": [
    "a = float(input(\"Dame un dividendo :  \"))\n",
    "b = float(input(\"Dame un divisor : \"))\n",
    "\n",
    "print(\"El cociente de\",a ,\"x\", b, \"es :\", a/b)"
   ]
  },
  {
   "cell_type": "code",
   "execution_count": 7,
   "metadata": {},
   "outputs": [
    {
     "name": "stdout",
     "output_type": "stream",
     "text": [
      "Dame un dividendo :  10\n",
      "Dame un divisor : 3\n",
      "El cociente de 10 x 3 es : 3.33\n"
     ]
    }
   ],
   "source": [
    "a = int(input(\"Dame un dividendo :  \"))\n",
    "b = int(input(\"Dame un divisor : \"))\n",
    "\n",
    "print(\"El cociente de\",a ,\"x\", b, \"es :\", round(a/b, 2))"
   ]
  },
  {
   "cell_type": "code",
   "execution_count": 8,
   "metadata": {},
   "outputs": [
    {
     "name": "stdout",
     "output_type": "stream",
     "text": [
      "Cual es el valor de N ? : 100\n",
      "180.0\n"
     ]
    }
   ],
   "source": [
    "n = float(input(\"Cual es el valor de N ? : \"))\n",
    "\n",
    "print((n*2) - ((n*2)*0.1))"
   ]
  },
  {
   "cell_type": "code",
   "execution_count": 9,
   "metadata": {},
   "outputs": [
    {
     "name": "stdout",
     "output_type": "stream",
     "text": [
      "False\n"
     ]
    }
   ],
   "source": [
    "print(4>3 and 1>3)"
   ]
  },
  {
   "cell_type": "code",
   "execution_count": 10,
   "metadata": {},
   "outputs": [
    {
     "name": "stdout",
     "output_type": "stream",
     "text": [
      "True\n"
     ]
    }
   ],
   "source": [
    "print(4>3 or 1>3)"
   ]
  },
  {
   "cell_type": "code",
   "execution_count": 11,
   "metadata": {},
   "outputs": [
    {
     "name": "stdout",
     "output_type": "stream",
     "text": [
      "True\n"
     ]
    }
   ],
   "source": [
    "print(4 == 4)"
   ]
  },
  {
   "cell_type": "code",
   "execution_count": 12,
   "metadata": {},
   "outputs": [
    {
     "name": "stdout",
     "output_type": "stream",
     "text": [
      "True\n"
     ]
    }
   ],
   "source": [
    "print(4 != 3)"
   ]
  },
  {
   "cell_type": "code",
   "execution_count": 13,
   "metadata": {},
   "outputs": [
    {
     "name": "stdout",
     "output_type": "stream",
     "text": [
      "True\n"
     ]
    }
   ],
   "source": [
    "print(4>3 or not 1>3)"
   ]
  },
  {
   "cell_type": "code",
   "execution_count": 14,
   "metadata": {},
   "outputs": [
    {
     "name": "stdout",
     "output_type": "stream",
     "text": [
      "Valor de a : 10\n",
      "Valor de b : 15\n",
      "10 es mayor o igual que 15 : False\n"
     ]
    }
   ],
   "source": [
    "a = int(input(\"Valor de a : \"))\n",
    "b = int(input(\"Valor de b : \"))\n",
    "\n",
    "c = (a >= b)\n",
    "\n",
    "print(a, \"es mayor o igual que\", b , \":\", c )"
   ]
  },
  {
   "cell_type": "code",
   "execution_count": 15,
   "metadata": {},
   "outputs": [
    {
     "name": "stdout",
     "output_type": "stream",
     "text": [
      "Esto es una cadena \n",
      "de texto \n",
      "multilinea\n"
     ]
    }
   ],
   "source": [
    "print(\"Esto es una cadena \\nde texto \\nmultilinea\")"
   ]
  },
  {
   "cell_type": "code",
   "execution_count": 18,
   "metadata": {},
   "outputs": [
    {
     "name": "stdout",
     "output_type": "stream",
     "text": [
      "Esto es un texto \"con caracteres de escape\"\n"
     ]
    }
   ],
   "source": [
    "print(\"Esto es un texto \\\"con caracteres de escape\\\"\")"
   ]
  },
  {
   "cell_type": "code",
   "execution_count": 19,
   "metadata": {},
   "outputs": [
    {
     "name": "stdout",
     "output_type": "stream",
     "text": [
      "Esto \tes \tuna \tcadena \tde \ttexto \ttabulada\n"
     ]
    }
   ],
   "source": [
    "print(\"Esto \\tes \\tuna \\tcadena \\tde \\ttexto \\ttabulada\")"
   ]
  },
  {
   "cell_type": "code",
   "execution_count": 20,
   "metadata": {},
   "outputs": [
    {
     "name": "stdout",
     "output_type": "stream",
     "text": [
      "Esto;es;una;cadena;de;texto;separada;por;punto;y;coma\n"
     ]
    }
   ],
   "source": [
    "print(\"Esto\", \"es\", \"una\", \"cadena\", \"de\", \"texto\", \"separada\", \"por\", \"punto\", \"y\", \"coma\", sep = \";\")"
   ]
  },
  {
   "cell_type": "code",
   "execution_count": null,
   "metadata": {},
   "outputs": [],
   "source": []
  }
 ],
 "metadata": {
  "kernelspec": {
   "display_name": "Python 3",
   "language": "python",
   "name": "python3"
  },
  "language_info": {
   "codemirror_mode": {
    "name": "ipython",
    "version": 3
   },
   "file_extension": ".py",
   "mimetype": "text/x-python",
   "name": "python",
   "nbconvert_exporter": "python",
   "pygments_lexer": "ipython3",
   "version": "3.7.4"
  }
 },
 "nbformat": 4,
 "nbformat_minor": 4
}
