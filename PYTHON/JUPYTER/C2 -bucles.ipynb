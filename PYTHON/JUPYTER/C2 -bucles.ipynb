{
 "cells": [
  {
   "cell_type": "code",
   "execution_count": 3,
   "metadata": {},
   "outputs": [
    {
     "name": "stdout",
     "output_type": "stream",
     "text": [
      "0\n",
      "1\n",
      "2\n",
      "3\n",
      "4\n",
      "5\n",
      "6\n",
      "7\n",
      "8\n",
      "9\n",
      "10\n"
     ]
    }
   ],
   "source": [
    "i = 0\n",
    "\n",
    "while i <= 10:\n",
    "    print(i)\n",
    "    i = i+1"
   ]
  },
  {
   "cell_type": "code",
   "execution_count": 2,
   "metadata": {},
   "outputs": [
    {
     "name": "stdout",
     "output_type": "stream",
     "text": [
      "1\n",
      "2\n",
      "3\n",
      "4\n",
      "5\n",
      "6\n",
      "7\n",
      "8\n",
      "9\n",
      "10\n"
     ]
    }
   ],
   "source": [
    "for i in (1,2,3,4,5,6,7,8,9,10):\n",
    "    print(i)  \n",
    "    "
   ]
  },
  {
   "cell_type": "code",
   "execution_count": 4,
   "metadata": {},
   "outputs": [
    {
     "name": "stdout",
     "output_type": "stream",
     "text": [
      "1 paga las cervezas\n",
      "2 paga las cervezas\n",
      "3 paga las cervezas\n",
      "4 paga las cervezas\n",
      "5 paga las cervezas\n",
      "6 paga las cervezas\n",
      "7 paga las cervezas\n",
      "8 paga las cervezas\n",
      "9 paga las cervezas\n",
      "10 paga las cervezas\n",
      "11 paga las cervezas\n",
      "12 paga las cervezas\n",
      "13 paga las cervezas\n",
      "14 paga las cervezas\n",
      "15 paga las cervezas\n",
      "16 paga las cervezas\n",
      "17 paga las cervezas\n",
      "18 paga las cervezas\n",
      "19 paga las cervezas\n",
      "20 paga las cervezas\n"
     ]
    }
   ],
   "source": [
    "i = 1\n",
    "\n",
    "while i <= 20:    \n",
    "    print(i, \"paga las cervezas\")\n",
    "    i = i+1"
   ]
  },
  {
   "cell_type": "code",
   "execution_count": 5,
   "metadata": {},
   "outputs": [
    {
     "name": "stdout",
     "output_type": "stream",
     "text": [
      "dame una letra : a\n",
      "dame una letra : b\n",
      "dame una letra : c\n",
      "Has adivinado la letra\n"
     ]
    }
   ],
   "source": [
    "continuar = True\n",
    "\n",
    "while continuar:\n",
    "    letra = input(\"dame una letra : \")\n",
    "    if letra == \"c\":\n",
    "        continuar = False\n",
    "print(\"Has adivinado la letra\")"
   ]
  },
  {
   "cell_type": "code",
   "execution_count": 6,
   "metadata": {},
   "outputs": [
    {
     "name": "stdout",
     "output_type": "stream",
     "text": [
      "hay que comprar  patatas\n",
      "hay que comprar  cereveza\n",
      "hay que comprar  servilletas\n",
      "hay que comprar  atún\n",
      "hay que comprar  tomates\n"
     ]
    }
   ],
   "source": [
    "lista_compra = [\"patatas\", \"cereveza\" , \"servilletas\" , \"atún\", \"tomates\"]\n",
    "\n",
    "for i in lista_compra:\n",
    "    print(\"hay que comprar \", i)"
   ]
  },
  {
   "cell_type": "code",
   "execution_count": 7,
   "metadata": {},
   "outputs": [
    {
     "name": "stdout",
     "output_type": "stream",
     "text": [
      "0\n",
      "1\n",
      "2\n",
      "3\n",
      "4\n",
      "5\n",
      "6\n",
      "7\n",
      "8\n",
      "9\n"
     ]
    }
   ],
   "source": [
    "for i in range(10):\n",
    "    print(i)"
   ]
  },
  {
   "cell_type": "code",
   "execution_count": 8,
   "metadata": {},
   "outputs": [
    {
     "name": "stdout",
     "output_type": "stream",
     "text": [
      "10\n",
      "17\n",
      "24\n",
      "31\n",
      "38\n",
      "45\n",
      "52\n",
      "59\n",
      "66\n",
      "73\n",
      "80\n",
      "87\n",
      "94\n"
     ]
    }
   ],
   "source": [
    "#### range con inicio, fin, saltos ####\n",
    "\n",
    "for i in range(10, 100, 7):\n",
    "    print(i)"
   ]
  },
  {
   "cell_type": "code",
   "execution_count": 19,
   "metadata": {},
   "outputs": [
    {
     "name": "stdout",
     "output_type": "stream",
     "text": [
      "Dame un número : 7\n",
      "7 x 0 = 0\n",
      "7 x 1 = 7\n",
      "7 x 2 = 14\n",
      "7 x 3 = 21\n",
      "7 x 4 = 28\n",
      "7 x 5 = 35\n",
      "7 x 6 = 42\n",
      "7 x 7 = 49\n",
      "7 x 8 = 56\n",
      "7 x 9 = 63\n",
      "7 x 10 = 70\n"
     ]
    }
   ],
   "source": [
    "#### Range con fin de rango, el último número del rango está excluido #####\n",
    "\n",
    "n = int(input(\"Dame un número : \"))\n",
    "\n",
    "for i in range(11):\n",
    "    print(n ,\"x\" ,i, \"=\",n*i)"
   ]
  },
  {
   "cell_type": "code",
   "execution_count": 13,
   "metadata": {},
   "outputs": [
    {
     "name": "stdout",
     "output_type": "stream",
     "text": [
      "0\n",
      "5\n",
      "10\n",
      "15\n",
      "20\n",
      "25\n",
      "30\n",
      "35\n",
      "40\n",
      "45\n",
      "50\n",
      "55\n",
      "60\n",
      "65\n",
      "70\n",
      "75\n",
      "80\n",
      "85\n",
      "90\n",
      "95\n"
     ]
    }
   ],
   "source": [
    "### multiplos de 5 entre 1 y 99 ###\n",
    "\n",
    "for i in range(0,100,5):\n",
    "    print(i)"
   ]
  },
  {
   "cell_type": "code",
   "execution_count": 18,
   "metadata": {},
   "outputs": [
    {
     "name": "stdout",
     "output_type": "stream",
     "text": [
      "0.0170286 milisegundos\n",
      "0.0141335 milisegundos\n",
      "0.0108701 milisegundos\n",
      "0.0218696 milisegundos\n",
      "0.0154163 milisegundos\n",
      "0.0107743 milisegundos\n",
      "0.0104358 milisegundos\n",
      "0.0117355 milisegundos\n",
      "0.0117854 milisegundos\n",
      "0.0101736 milisegundos\n",
      "0.0107969 milisegundos\n"
     ]
    }
   ],
   "source": [
    "#### Comprobar cuantos milisegundos tarda el bucle en iterar del 1 al 100.000 cada 10.000 iteraciones ###\n",
    "\n",
    "from timeit import timeit\n",
    "\n",
    "\n",
    "for i in range(0,100001,10000):\n",
    "    print(round(timeit(),10), \"milisegundos\")"
   ]
  },
  {
   "cell_type": "code",
   "execution_count": 13,
   "metadata": {},
   "outputs": [
    {
     "name": "stdout",
     "output_type": "stream",
     "text": [
      "FLORES\t6\tflores\n",
      "CHAMPÚ\t6\tchampú\n",
      "CREMA REPADADORA\t16\tcrema_repadadora\n",
      "CALCETINES\t10\tcalcetines\n",
      "CREMA ACNÉ\t10\tcrema_acné\n",
      "BOMBONES\t8\tbombones\n",
      "FERRARI\t7\tferrari\n",
      "CRUCERO\t7\tCrucero\n"
     ]
    }
   ],
   "source": [
    "#### Bucle sobre lista de strings , usamos métodos y funciones###\n",
    "\n",
    "lista_sv = [\"flores\", \"champú\", \"crema repadadora\", \"calcetines\", \"crema acné\" , \"bombones\", \"ferrari\", \"Crucero\"]\n",
    "\n",
    "for regalo in lista_sv:\n",
    "    print(regalo.upper(), end=\"\\t\")\n",
    "    print(len(regalo), end=\"\\t\")\n",
    "    print(regalo.replace(\" \", \"_\"))\n",
    "    \n",
    "    \n",
    "        "
   ]
  },
  {
   "cell_type": "code",
   "execution_count": 11,
   "metadata": {},
   "outputs": [
    {
     "name": "stdout",
     "output_type": "stream",
     "text": [
      "1.0\t14\t1\n",
      "2.0\t28\t3\n",
      "3.0\t42\t6\n",
      "4.0\t56\t10\n",
      "5.0\t70\t15\n",
      "6.0\t84\t21\n",
      "7.0\t98\t28\n",
      "8.0\t112\t36\n"
     ]
    }
   ],
   "source": [
    "#### Bucle sobre lista numérica , vamos acumulando el valor de todos en una variable \"acumulador\" ####\n",
    "\n",
    "lista_num = [1,2,3,4,5,6,7,8]\n",
    "\n",
    "acumulador = 0\n",
    "\n",
    "for numero in lista_num:\n",
    "    print(float(numero), end = \"\\t\")\n",
    "    print(numero * 14, end = \"\\t\")\n",
    "    acumulador = acumulador + numero\n",
    "    print(acumulador)\n",
    "    "
   ]
  },
  {
   "cell_type": "code",
   "execution_count": 23,
   "metadata": {},
   "outputs": [
    {
     "name": "stdout",
     "output_type": "stream",
     "text": [
      "float \t X14 \t Acumulación\n",
      "1.0\t14\tSuma :  1\n",
      "2.0\t28\tSuma :  3\n",
      "3.0\t42\tSuma :  6\n",
      "4.0\t56\tSuma :  10\n",
      "5.0\t70\tSuma :  15\n",
      "6.0\t84\tSuma :  21\n",
      "7.0\t98\tSuma :  28\n",
      "8.0\t112\tSuma :  36\n",
      "9.0\t126\tSuma :  45\n",
      "10.0\t140\tSuma :  55\n",
      "11.0\t154\tSuma :  66\n",
      "12.0\t168\tSuma :  78\n",
      "13.0\t182\tSuma :  91\n",
      "14.0\t196\tSuma :  105\n",
      "15.0\t210\tSuma :  120\n",
      "16.0\t224\tSuma :  136\n",
      "17.0\t238\tSuma :  153\n",
      "18.0\t252\tSuma :  171\n",
      "19.0\t266\tSuma :  190\n",
      "20.0\t280\tSuma :  210\n"
     ]
    }
   ],
   "source": [
    "##### Bucle con range del 1 al 20 ####\n",
    "\n",
    "lista_num = range(1,21)\n",
    "\n",
    "acumulador = 0\n",
    "\n",
    "print(\"float\", \"\\t\", \"X14\", \"\\t\", \"Acumulación\")\n",
    "\n",
    "for numero in lista_num:    \n",
    "    print(float(numero), end = \"\\t\")\n",
    "    print(numero * 14, end = \"\\t\")\n",
    "    acumulador = acumulador + numero\n",
    "    print(\"Suma : \", acumulador)\n",
    "\n"
   ]
  },
  {
   "cell_type": "code",
   "execution_count": 26,
   "metadata": {},
   "outputs": [
    {
     "name": "stdout",
     "output_type": "stream",
     "text": [
      "1\n",
      "2\n",
      "6\n",
      "24\n",
      "120\n",
      "720\n",
      "5040\n",
      "40320\n",
      "362880\n",
      "3628800\n",
      "39916800\n",
      "479001600\n",
      "6227020800\n",
      "87178291200\n",
      "1307674368000\n",
      "20922789888000\n",
      "355687428096000\n",
      "6402373705728000\n",
      "121645100408832000\n",
      "2432902008176640000\n"
     ]
    }
   ],
   "source": [
    "#### Bucles con tuplas , no se pueden hacer modificaciones sobre los elementos ####\n",
    "\n",
    "tupla = (1, 2, 3, 4, 5, 6, 7, 8, 9, 10, 11, 12, 13, 14, 15, 16, 17, 18, 19, 20)\n",
    "\n",
    "acumulador = 1\n",
    "\n",
    "for i in tupla:\n",
    "    acumulador = i * acumulador\n",
    "    print(acumulador)"
   ]
  },
  {
   "cell_type": "code",
   "execution_count": 29,
   "metadata": {},
   "outputs": [
    {
     "name": "stdout",
     "output_type": "stream",
     "text": [
      "1\n",
      "2\n",
      "3\n",
      "4\n",
      "5\n",
      "6\n",
      "7\n",
      "8\n",
      "9\n",
      "10\n",
      "11\n",
      "12\n",
      "13\n",
      "14\n",
      "15\n",
      "16\n",
      "17\n",
      "18\n",
      "19\n",
      "20\n"
     ]
    }
   ],
   "source": [
    "i = 0\n",
    "\n",
    "while i < 20:\n",
    "    i = i +1\n",
    "    print(i)"
   ]
  },
  {
   "cell_type": "code",
   "execution_count": 42,
   "metadata": {},
   "outputs": [
    {
     "name": "stdout",
     "output_type": "stream",
     "text": [
      "float \t x14 \t n + 1\n",
      "  1.0\t  14\t  2\n",
      "  2.0\t  28\t  3\n",
      "  3.0\t  42\t  4\n",
      "  4.0\t  56\t  5\n",
      "  5.0\t  70\t  6\n",
      "  6.0\t  84\t  7\n",
      "  7.0\t  98\t  8\n",
      "  8.0\t  112\t  9\n",
      "  9.0\t  126\t  10\n",
      "  10.0\t  140\t  11\n",
      "  11.0\t  154\t  12\n",
      "  12.0\t  168\t  13\n",
      "  13.0\t  182\t  14\n",
      "  14.0\t  196\t  15\n",
      "  15.0\t  210\t  16\n",
      "  16.0\t  224\t  17\n",
      "  17.0\t  238\t  18\n",
      "  18.0\t  252\t  19\n",
      "  19.0\t  266\t  20\n"
     ]
    }
   ],
   "source": [
    "numero = 1\n",
    "\n",
    "print(\"float\", \"\\t\", \"x14\", \"\\t\", \"n + 1\")\n",
    "\n",
    "while numero < 20:\n",
    "    print(\" \", float(numero), end = \"\\t\")\n",
    "    print(\" \", (numero * 14), end = \"\\t\")\n",
    "    numero += 1\n",
    "    print(\" \", numero)"
   ]
  },
  {
   "cell_type": "code",
   "execution_count": 43,
   "metadata": {},
   "outputs": [
    {
     "name": "stdout",
     "output_type": "stream",
     "text": [
      "Esto es un bucle\n",
      "Esto es un bucle\n",
      "Esto es un bucle\n",
      "Esto es un bucle\n",
      "Esto es un bucle\n",
      "Esto es un bucle\n",
      "Esto es un bucle\n",
      "Esto es un bucle\n",
      "Esto es un bucle\n"
     ]
    }
   ],
   "source": [
    "n = 1\n",
    "\n",
    "while n < 10:\n",
    "    print(\"Esto es un bucle\")\n",
    "    n += 1"
   ]
  },
  {
   "cell_type": "code",
   "execution_count": 45,
   "metadata": {},
   "outputs": [
    {
     "name": "stdout",
     "output_type": "stream",
     "text": [
      "Este es el número  1\n",
      "Este es el número  2\n",
      "Este es el número  3\n",
      "Este es el número  4\n",
      "Este es el número guay\n",
      "Este es el número  6\n",
      "Este es el número  7\n",
      "Este es el número  8\n",
      "Este es el número  9\n",
      "Este es el número  10\n"
     ]
    }
   ],
   "source": [
    "n = 1\n",
    "\n",
    "while n < 11:\n",
    "    if n == 5:\n",
    "        print(\"Este es el número guay\")\n",
    "    else:\n",
    "              print(\"Este es el número \", n)\n",
    "    n += 1"
   ]
  },
  {
   "cell_type": "code",
   "execution_count": 1,
   "metadata": {},
   "outputs": [
    {
     "name": "stdout",
     "output_type": "stream",
     "text": [
      "n todavia es menor que 10\n",
      "n todavia es menor que 10\n",
      "n todavia es menor que 10\n",
      "n todavia es menor que 10\n",
      "n todavia es menor que 10\n",
      "n todavia es menor que 10\n",
      "n todavia es menor que 10\n",
      "n todavia es menor que 10\n",
      "n todavia es menor que 10\n"
     ]
    }
   ],
   "source": [
    "switch = True\n",
    "\n",
    "n = 1\n",
    "\n",
    "while switch:\n",
    "    if n < 10:\n",
    "        print(\"n todavia es menor que 10\")\n",
    "    else:\n",
    "        switch = False\n",
    "    n = n + 1\n"
   ]
  },
  {
   "cell_type": "code",
   "execution_count": 2,
   "metadata": {},
   "outputs": [
    {
     "name": "stdout",
     "output_type": "stream",
     "text": [
      "n todavia es menor que 10\n",
      "n todavia es menor que 10\n",
      "n todavia es menor que 10\n",
      "n todavia es menor que 10\n",
      "n todavia es menor que 10\n",
      "n todavia es menor que 10\n",
      "n todavia es menor que 10\n",
      "n todavia es menor que 10\n",
      "n todavia es menor que 10\n"
     ]
    }
   ],
   "source": [
    "#### Con el la variable switch = False ####\n",
    "\n",
    "switch = False\n",
    "\n",
    "n = 1\n",
    "\n",
    "while not switch:\n",
    "    if n < 10:\n",
    "        print(\"n todavia es menor que 10\")\n",
    "    else:\n",
    "        switch = True\n",
    "    n = n + 1"
   ]
  },
  {
   "cell_type": "code",
   "execution_count": 1,
   "metadata": {},
   "outputs": [
    {
     "name": "stdout",
     "output_type": "stream",
     "text": [
      "Valor de i :  1\n",
      "\t Valor de j :  1  ; j x i =  1\n",
      "\t Valor de j :  2  ; j x i =  2\n",
      "\t Valor de j :  3  ; j x i =  3\n",
      "\t Valor de j :  4  ; j x i =  4\n",
      "\t Valor de j :  5  ; j x i =  5\n",
      "Valor de i :  2\n",
      "\t Valor de j :  1  ; j x i =  2\n",
      "\t Valor de j :  2  ; j x i =  4\n",
      "\t Valor de j :  3  ; j x i =  6\n",
      "\t Valor de j :  4  ; j x i =  8\n",
      "\t Valor de j :  5  ; j x i =  10\n",
      "Valor de i :  3\n",
      "\t Valor de j :  1  ; j x i =  3\n",
      "\t Valor de j :  2  ; j x i =  6\n",
      "\t Valor de j :  3  ; j x i =  9\n",
      "\t Valor de j :  4  ; j x i =  12\n",
      "\t Valor de j :  5  ; j x i =  15\n",
      "Valor de i :  4\n",
      "\t Valor de j :  1  ; j x i =  4\n",
      "\t Valor de j :  2  ; j x i =  8\n",
      "\t Valor de j :  3  ; j x i =  12\n",
      "\t Valor de j :  4  ; j x i =  16\n",
      "\t Valor de j :  5  ; j x i =  20\n",
      "Valor de i :  5\n",
      "\t Valor de j :  1  ; j x i =  5\n",
      "\t Valor de j :  2  ; j x i =  10\n",
      "\t Valor de j :  3  ; j x i =  15\n",
      "\t Valor de j :  4  ; j x i =  20\n",
      "\t Valor de j :  5  ; j x i =  25\n"
     ]
    }
   ],
   "source": [
    "### Bucle for anidado ####\n",
    "\n",
    "for i in range(1,6):\n",
    "    print(\"Valor de i : \", i)\n",
    "    for j in range(1,6):\n",
    "        print(\"\\t Valor de j : \", j, \" ; j x i = \", (i * j))\n"
   ]
  },
  {
   "cell_type": "code",
   "execution_count": 3,
   "metadata": {},
   "outputs": [
    {
     "name": "stdout",
     "output_type": "stream",
     "text": [
      "La tabla del :  1\n",
      "\t 1 x 1 = 1\n",
      "\t 1 x 2 = 2\n",
      "\t 1 x 3 = 3\n",
      "\t 1 x 4 = 4\n",
      "\t 1 x 5 = 5\n",
      "\t 1 x 6 = 6\n",
      "\t 1 x 7 = 7\n",
      "\t 1 x 8 = 8\n",
      "\t 1 x 9 = 9\n",
      "\t 1 x 10 = 10\n",
      "La tabla del :  2\n",
      "\t 2 x 1 = 2\n",
      "\t 2 x 2 = 4\n",
      "\t 2 x 3 = 6\n",
      "\t 2 x 4 = 8\n",
      "\t 2 x 5 = 10\n",
      "\t 2 x 6 = 12\n",
      "\t 2 x 7 = 14\n",
      "\t 2 x 8 = 16\n",
      "\t 2 x 9 = 18\n",
      "\t 2 x 10 = 20\n",
      "La tabla del :  3\n",
      "\t 3 x 1 = 3\n",
      "\t 3 x 2 = 6\n",
      "\t 3 x 3 = 9\n",
      "\t 3 x 4 = 12\n",
      "\t 3 x 5 = 15\n",
      "\t 3 x 6 = 18\n",
      "\t 3 x 7 = 21\n",
      "\t 3 x 8 = 24\n",
      "\t 3 x 9 = 27\n",
      "\t 3 x 10 = 30\n",
      "La tabla del :  4\n",
      "\t 4 x 1 = 4\n",
      "\t 4 x 2 = 8\n",
      "\t 4 x 3 = 12\n",
      "\t 4 x 4 = 16\n",
      "\t 4 x 5 = 20\n",
      "\t 4 x 6 = 24\n",
      "\t 4 x 7 = 28\n",
      "\t 4 x 8 = 32\n",
      "\t 4 x 9 = 36\n",
      "\t 4 x 10 = 40\n",
      "La tabla del :  5\n",
      "\t 5 x 1 = 5\n",
      "\t 5 x 2 = 10\n",
      "\t 5 x 3 = 15\n",
      "\t 5 x 4 = 20\n",
      "\t 5 x 5 = 25\n",
      "\t 5 x 6 = 30\n",
      "\t 5 x 7 = 35\n",
      "\t 5 x 8 = 40\n",
      "\t 5 x 9 = 45\n",
      "\t 5 x 10 = 50\n",
      "La tabla del :  6\n",
      "\t 6 x 1 = 6\n",
      "\t 6 x 2 = 12\n",
      "\t 6 x 3 = 18\n",
      "\t 6 x 4 = 24\n",
      "\t 6 x 5 = 30\n",
      "\t 6 x 6 = 36\n",
      "\t 6 x 7 = 42\n",
      "\t 6 x 8 = 48\n",
      "\t 6 x 9 = 54\n",
      "\t 6 x 10 = 60\n",
      "La tabla del :  7\n",
      "\t 7 x 1 = 7\n",
      "\t 7 x 2 = 14\n",
      "\t 7 x 3 = 21\n",
      "\t 7 x 4 = 28\n",
      "\t 7 x 5 = 35\n",
      "\t 7 x 6 = 42\n",
      "\t 7 x 7 = 49\n",
      "\t 7 x 8 = 56\n",
      "\t 7 x 9 = 63\n",
      "\t 7 x 10 = 70\n",
      "La tabla del :  8\n",
      "\t 8 x 1 = 8\n",
      "\t 8 x 2 = 16\n",
      "\t 8 x 3 = 24\n",
      "\t 8 x 4 = 32\n",
      "\t 8 x 5 = 40\n",
      "\t 8 x 6 = 48\n",
      "\t 8 x 7 = 56\n",
      "\t 8 x 8 = 64\n",
      "\t 8 x 9 = 72\n",
      "\t 8 x 10 = 80\n",
      "La tabla del :  9\n",
      "\t 9 x 1 = 9\n",
      "\t 9 x 2 = 18\n",
      "\t 9 x 3 = 27\n",
      "\t 9 x 4 = 36\n",
      "\t 9 x 5 = 45\n",
      "\t 9 x 6 = 54\n",
      "\t 9 x 7 = 63\n",
      "\t 9 x 8 = 72\n",
      "\t 9 x 9 = 81\n",
      "\t 9 x 10 = 90\n",
      "La tabla del :  10\n",
      "\t 10 x 1 = 10\n",
      "\t 10 x 2 = 20\n",
      "\t 10 x 3 = 30\n",
      "\t 10 x 4 = 40\n",
      "\t 10 x 5 = 50\n",
      "\t 10 x 6 = 60\n",
      "\t 10 x 7 = 70\n",
      "\t 10 x 8 = 80\n",
      "\t 10 x 9 = 90\n",
      "\t 10 x 10 = 100\n"
     ]
    }
   ],
   "source": [
    "## Bucles anidados para crear las tablas de multiplicar ##\n",
    "\n",
    "for i in range(1,11):\n",
    "    print(\"La tabla del : \", i)\n",
    "    for j in range(1,11):\n",
    "        print(\"\\t\", i , \"x\", j , \"=\", (i * j))"
   ]
  },
  {
   "cell_type": "code",
   "execution_count": 1,
   "metadata": {},
   "outputs": [
    {
     "name": "stdout",
     "output_type": "stream",
     "text": [
      "\n",
      "  Adivina el valor de X entre 0 y 100 \n",
      " \n"
     ]
    },
    {
     "name": "stdin",
     "output_type": "stream",
     "text": [
      "Dame un número :  50\n"
     ]
    },
    {
     "name": "stdout",
     "output_type": "stream",
     "text": [
      "El número 50 es mayor que X, prueba otra vez...\n"
     ]
    },
    {
     "name": "stdin",
     "output_type": "stream",
     "text": [
      "Dame un número :  20\n"
     ]
    },
    {
     "name": "stdout",
     "output_type": "stream",
     "text": [
      "El número 20 es menor que X, prueba otra vez...\n"
     ]
    },
    {
     "name": "stdin",
     "output_type": "stream",
     "text": [
      "Dame un número :  30\n"
     ]
    },
    {
     "name": "stdout",
     "output_type": "stream",
     "text": [
      "El número 30 es mayor que X, prueba otra vez...\n"
     ]
    },
    {
     "name": "stdin",
     "output_type": "stream",
     "text": [
      "Dame un número :  25\n"
     ]
    },
    {
     "name": "stdout",
     "output_type": "stream",
     "text": [
      "Enhorabuena, acertaste !!!!\n"
     ]
    }
   ],
   "source": [
    "#### Juego de adivinar un número con 5 intentos ###\n",
    "\n",
    "from random import randrange\n",
    "\n",
    "\n",
    "print(\"\\n  Adivina el valor de X entre 0 y 100 \\n \") \n",
    "\n",
    "x = randrange(101) \n",
    "\n",
    "switch = True\n",
    "\n",
    "intentos = 0\n",
    "\n",
    "while switch:\n",
    "    \n",
    "    intentos = intentos + 1\n",
    "    max_intentos = 5\n",
    "\n",
    "    a = int(input(\"Dame un número : \"))\n",
    "\n",
    "    if intentos == max_intentos:\n",
    "        print(\"Has perdido !\")\n",
    "        switch = False   \n",
    "\n",
    "    elif intentos < max_intentos: \n",
    "\n",
    "        if a == x:\n",
    "            print(\"Enhorabuena, acertaste !!!!\")\n",
    "            switch = False\n",
    "\n",
    "        elif a < x and a >= 0:\n",
    "            print(\"El número\", a , \"es menor que X, prueba otra vez...\")\n",
    "\n",
    "        elif a > x and a <= 100:\n",
    "            print(\"El número\", a , \"es mayor que X, prueba otra vez...\")\n",
    "\n",
    "        elif a < 0:\n",
    "            print(\"El número\", a , \"es menor que 0, prueba otra vez...\")\n",
    "\n",
    "        else:\n",
    "            print(\"El número\", a , \"es mayor que 100, prueba otra vez...\")                                                              \n",
    "\n",
    "    else:\n",
    "       print(\"OOOOOH !!! , agotaste tus oportunidades\")\n",
    "       switch = False"
   ]
  },
  {
   "cell_type": "code",
   "execution_count": null,
   "metadata": {},
   "outputs": [],
   "source": []
  }
 ],
 "metadata": {
  "kernelspec": {
   "display_name": "Python 3",
   "language": "python",
   "name": "python3"
  },
  "language_info": {
   "codemirror_mode": {
    "name": "ipython",
    "version": 3
   },
   "file_extension": ".py",
   "mimetype": "text/x-python",
   "name": "python",
   "nbconvert_exporter": "python",
   "pygments_lexer": "ipython3",
   "version": "3.7.4"
  }
 },
 "nbformat": 4,
 "nbformat_minor": 4
}
