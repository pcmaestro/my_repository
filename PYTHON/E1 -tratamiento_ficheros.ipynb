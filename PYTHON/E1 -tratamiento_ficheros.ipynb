{
 "cells": [
  {
   "cell_type": "code",
   "execution_count": null,
   "metadata": {},
   "outputs": [],
   "source": [
    "Modos de apertura de ficheros\n",
    "\n",
    "\"r\" lectura (modo por defecto si no indicamos nada)\n",
    "\"w\" escritura(borra el contenido)\n",
    "\"a\" escritura(hace un append al final del contenido)\n",
    "\"r+\" lectura y ecritura\n",
    "\n",
    "ascii (por defecto)\n",
    "binary\n",
    "\n",
    "\n",
    "##### Paa abrir ficheros enteros , si no están el mismo directorio que el fichero .py , hay \n",
    "#### que indicar la ruta completa . Tener en cuenta que en directorios windows hay que cambiar\n",
    "#### la barra \\ por la barra / y escribir la ruta entre comillas\n",
    "\n",
    "f = open(\"prueba.txt\", \"r\")\n",
    "texto = f.read()\n",
    "print(texto)\n",
    "f.close()\n",
    "\n",
    "##### Para ver una linea en concreto ( lo qe menos CPU comsume) ####\n",
    "\n",
    "for linea in open(\"prueba.txt\", \"r\"):\n",
    "    print(linea)\n",
    "f.close()\n",
    "\n",
    "#### Otra forma #####\n",
    "\n",
    "f = open(\"prueba.txt\", \"r\")\n",
    "linea = f.readline()\n",
    "f.close()\n",
    "print(linea(5))\n",
    "\n",
    "\n",
    "##### Para ver varias lineas ####\n",
    "\n",
    "f = open(\"prueba.txt\", \"r\")\n",
    "linea = f.readlines()\n",
    "f.close()\n",
    "print(lineas(0))\n",
    "print(lineas(1))\n",
    "print(lineas(2))\n",
    "\n"
   ]
  },
  {
   "cell_type": "code",
   "execution_count": null,
   "metadata": {},
   "outputs": [],
   "source": [
    "#### IMPORTANTE , los directorios windows hay que expresarlos no usando la contrabarra ######\n",
    "\n",
    "### usamos la / en lugar de la \\  #####\n",
    "\n",
    "f = open('C:/Users/Hp 840 G2/Fichero1.txt',\"r\")\n",
    "texto = f.read()\n",
    "print(texto)\n",
    "f.close()"
   ]
  },
  {
   "cell_type": "code",
   "execution_count": null,
   "metadata": {},
   "outputs": [],
   "source": [
    "#### Troceamos un fichero creando listas con el método split ####\n",
    "\n",
    "for linea in open(\"Fichero1.txt\"):\n",
    "    field = (linea.split())\n",
    "    print(linea)  ### imprime todo el texto ###\n",
    "    print(len(field)) ### imprime la cantidad de elementos en las listas creadas ###\n",
    "    print(field[1])  ### imprime el elemento 1 de las listas creadas ###\n",
    "    print(field[2])\n",
    "    print(field[3])"
   ]
  },
  {
   "cell_type": "code",
   "execution_count": null,
   "metadata": {},
   "outputs": [],
   "source": [
    "#### Metodos para los objetos que la clae IO #####\n",
    "\n",
    ".read()  Lee el archivo\n",
    ".readline() lee una linea del archivo\n",
    ".readlines() convierte las lineas en una lista\n",
    ".write() escribe texto en el archivo\n",
    ".tell() indica donde se encuentra el cursor dentro del archivo\n",
    ".seek() posiciona el cursor dentro del archivo, con el argumento 0 lo situa al principio"
   ]
  },
  {
   "cell_type": "code",
   "execution_count": null,
   "metadata": {},
   "outputs": [],
   "source": [
    "### NO FUNCIONA ###\n",
    "\n",
    "##Programa para trar un fichero de entrada y crear uno de salida\n",
    "##Abrimos el fichero de salida para escribir\n",
    "\n",
    "ficheroSalida = open(ficheroSalida.txt, \"w\")\n",
    "\n",
    "##Abrimos y leemos el Fichero1.txt , con el métido split partimos las lineas en trozos con formato de lista\n",
    "\n",
    "for linea in open(\"Fichero1.txt\"):\n",
    "\tfields = linea.split()\n",
    "\t## usamos dos métodos,  el split para seleccionar el elemento que nos interese en field1 y field2\n",
    "\t## y un substring entre los caracteres 0 y 40 para field3\n",
    "\tfield1 = str(fields[1].split(sep=\":\"))\n",
    "\tfield2 = str(fields[2].split(sep=\"=\"))\n",
    "\tfield3 = (fields[3])[0:41]\n",
    "\tficheroSalida.write(str(field1[0] + \":\" + field1[1] + field2[1] + field3))\n",
    "ficheroSalida.close()"
   ]
  }
 ],
 "metadata": {
  "kernelspec": {
   "display_name": "Python 3",
   "language": "python",
   "name": "python3"
  },
  "language_info": {
   "codemirror_mode": {
    "name": "ipython",
    "version": 3
   },
   "file_extension": ".py",
   "mimetype": "text/x-python",
   "name": "python",
   "nbconvert_exporter": "python",
   "pygments_lexer": "ipython3",
   "version": "3.7.4"
  }
 },
 "nbformat": 4,
 "nbformat_minor": 4
}
