{
 "cells": [
  {
   "cell_type": "code",
   "execution_count": null,
   "metadata": {},
   "outputs": [
    {
     "name": "stdout",
     "output_type": "stream",
     "text": [
      "\n",
      " Adivina el número secreto entre 0 y 100, tienes 10 intentos \n",
      "\n"
     ]
    },
    {
     "name": "stdin",
     "output_type": "stream",
     "text": [
      "Dame un número :  50\n"
     ]
    },
    {
     "name": "stdout",
     "output_type": "stream",
     "text": [
      "El número 50 es menor que el número secreto, vuelve a intentarlo\n"
     ]
    },
    {
     "name": "stdin",
     "output_type": "stream",
     "text": [
      "Dame un número :  80\n"
     ]
    },
    {
     "name": "stdout",
     "output_type": "stream",
     "text": [
      "El número 80 es menor que el número secreto, vuelve a intentarlo\n"
     ]
    },
    {
     "name": "stdin",
     "output_type": "stream",
     "text": [
      "Dame un número :  90\n"
     ]
    },
    {
     "name": "stdout",
     "output_type": "stream",
     "text": [
      "El número 90 es menor que el número secreto, vuelve a intentarlo\n"
     ]
    },
    {
     "name": "stdin",
     "output_type": "stream",
     "text": [
      "Dame un número :  95\n"
     ]
    },
    {
     "name": "stdout",
     "output_type": "stream",
     "text": [
      "El número 95 es menor que el número secreto, vuelve a intentarlo\n"
     ]
    },
    {
     "name": "stdin",
     "output_type": "stream",
     "text": [
      "Dame un número :  99\n"
     ]
    },
    {
     "name": "stdout",
     "output_type": "stream",
     "text": [
      "Enhorabuena !!! , ACERTASTE !!!!\n"
     ]
    }
   ],
   "source": [
    "from random import randrange\n",
    "\n",
    "print(\"\\n Adivina el número secreto entre 0 y 100, tienes 10 intentos \\n\")\n",
    "\n",
    "play = True\n",
    "i = 0\n",
    "x = randrange(101)\n",
    "\n",
    "while play:\n",
    "    i = i + 1\n",
    "    a = int(input(\"Dame un número : \"))\n",
    "    if i < 10:\n",
    "        if a == x:\n",
    "            print(\"Enhorabuena !!! , ACERTASTE !!!! los ha logrado en\", i,\"intentos\")\n",
    "            b = input(\"¿Quieres volver a jubar? si / no : \")\n",
    "            if b == \"si\":\n",
    "                i = 0\n",
    "            else:\n",
    "                print(\"Gracias por haber jugado, HASTA PRONTO !!!\")\n",
    "                play = False            \n",
    "        elif a < x:\n",
    "            print(\"El número\", a, \"es menor que el número secreto, vuelve a intentarlo\")\n",
    "        elif a > x and a > 100:\n",
    "            print(\"El número\", a, \"es mayor que 100, , no es váldio, vuelve a intentarlo\")\n",
    "        else:\n",
    "            print(\"El número\", a, \"es mayor que el número secreto, vuelve a intentarlo\")\n",
    "    elif i == 10:\n",
    "        b = input(\"ooooooh, has agotado tus intentos,¿Quieres seguir jugando? si / no : \")\n",
    "        if b == \"si\":\n",
    "            i = 0\n",
    "        else:\n",
    "            print(\"Gracias por haber jugado, HASTA PRONTO !!!\")\n",
    "            play = False\n",
    "\n"
   ]
  },
  {
   "cell_type": "code",
   "execution_count": null,
   "metadata": {},
   "outputs": [],
   "source": []
  },
  {
   "cell_type": "code",
   "execution_count": null,
   "metadata": {},
   "outputs": [],
   "source": []
  }
 ],
 "metadata": {
  "kernelspec": {
   "display_name": "Python 3",
   "language": "python",
   "name": "python3"
  },
  "language_info": {
   "codemirror_mode": {
    "name": "ipython",
    "version": 3
   },
   "file_extension": ".py",
   "mimetype": "text/x-python",
   "name": "python",
   "nbconvert_exporter": "python",
   "pygments_lexer": "ipython3",
   "version": "3.7.4"
  }
 },
 "nbformat": 4,
 "nbformat_minor": 4
}
