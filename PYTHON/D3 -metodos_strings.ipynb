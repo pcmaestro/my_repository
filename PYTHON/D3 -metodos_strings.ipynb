{
 "cells": [
  {
   "cell_type": "code",
   "execution_count": 1,
   "metadata": {},
   "outputs": [],
   "source": [
    "#######  Metodos para strings ########\n",
    "\n",
    "nombreApellido = \"Pedro Castellanos Maestro\""
   ]
  },
  {
   "cell_type": "code",
   "execution_count": 2,
   "metadata": {},
   "outputs": [
    {
     "name": "stdout",
     "output_type": "stream",
     "text": [
      "3\n"
     ]
    }
   ],
   "source": [
    "print(nombreApellido.count(\"a\"))"
   ]
  },
  {
   "cell_type": "code",
   "execution_count": 4,
   "metadata": {},
   "outputs": [
    {
     "name": "stdout",
     "output_type": "stream",
     "text": [
      "False\n"
     ]
    }
   ],
   "source": [
    "print(nombreApellido.endswith(\"z\"))"
   ]
  },
  {
   "cell_type": "code",
   "execution_count": 5,
   "metadata": {},
   "outputs": [
    {
     "name": "stdout",
     "output_type": "stream",
     "text": [
      "25\n"
     ]
    }
   ],
   "source": [
    "print(len(nombreApellido))"
   ]
  },
  {
   "cell_type": "code",
   "execution_count": 7,
   "metadata": {},
   "outputs": [
    {
     "name": "stdout",
     "output_type": "stream",
     "text": [
      "a é í ó ú\n"
     ]
    }
   ],
   "source": [
    "cadenacentos = \"á é í ó ú\"\n",
    "\n",
    "nuevacadena = cadenacentos.replace(\"á\", \"a\")\n",
    "\n",
    "print(nuevacadena)"
   ]
  },
  {
   "cell_type": "code",
   "execution_count": null,
   "metadata": {},
   "outputs": [],
   "source": [
    "## Otros métodos ##\n",
    "\n",
    ".upper()\n",
    ".lower()\n",
    ".capitalize()\n",
    ".tittle()\n",
    "\n",
    ".isalnum()\n",
    ".isalpha()\n",
    ".isdigit()\n",
    ".islower()\n",
    ".isupper()\n",
    "\n",
    ".strip()\n",
    ".lstrip()\n",
    ".rstripg()\n",
    "\n",
    ".max()\n",
    ".min()\n",
    "\n",
    ".split()  convierte palabras separadas por espacios en elementos de una lista"
   ]
  },
  {
   "cell_type": "code",
   "execution_count": 1,
   "metadata": {},
   "outputs": [
    {
     "name": "stdout",
     "output_type": "stream",
     "text": [
      "['esto', 'es', 'un', 'texto', 'de', 'prueba']\n"
     ]
    }
   ],
   "source": [
    "text = \"esto es un texto de prueba\"\n",
    "\n",
    "lista = text.split()\n",
    "\n",
    "print(lista)"
   ]
  },
  {
   "cell_type": "code",
   "execution_count": 1,
   "metadata": {},
   "outputs": [
    {
     "name": "stdout",
     "output_type": "stream",
     "text": [
      "['uno', 'dos', 'tres', 'cuatro']\n"
     ]
    }
   ],
   "source": [
    "text = \"uno;dos;tres;cuatro\"\n",
    "\n",
    "lista = text.split(\";\")\n",
    "\n",
    "print(lista)"
   ]
  },
  {
   "cell_type": "code",
   "execution_count": 7,
   "metadata": {},
   "outputs": [
    {
     "name": "stdout",
     "output_type": "stream",
     "text": [
      "True\n"
     ]
    }
   ],
   "source": [
    "### comprueba si en el string solo hay caracteres alfanuméricos ###\n",
    "\n",
    "text = \"textoconnumerosyletras12345\"\n",
    "\n",
    "print(text.isalnum())"
   ]
  },
  {
   "cell_type": "code",
   "execution_count": 11,
   "metadata": {},
   "outputs": [
    {
     "name": "stdout",
     "output_type": "stream",
     "text": [
      "False\n"
     ]
    }
   ],
   "source": [
    "### comprueba si en el string solo hay letras (ni espacios, ni números, ni comas....###\n",
    "\n",
    "\n",
    "text = \"numero 1\"\n",
    "\n",
    "print(text.isalpha())"
   ]
  },
  {
   "cell_type": "code",
   "execution_count": 5,
   "metadata": {},
   "outputs": [
    {
     "name": "stdout",
     "output_type": "stream",
     "text": [
      "True\n"
     ]
    }
   ],
   "source": [
    "### comprueba si en el string solo hay números ### \n",
    "\n",
    "text = \"20200212\"\n",
    "print(text.isdigit())"
   ]
  },
  {
   "cell_type": "code",
   "execution_count": 6,
   "metadata": {},
   "outputs": [
    {
     "name": "stdout",
     "output_type": "stream",
     "text": [
      "True\n"
     ]
    }
   ],
   "source": [
    "text = \"hola amig@, como estas?\"\n",
    "\n",
    "print(text.isascii())"
   ]
  },
  {
   "cell_type": "code",
   "execution_count": 7,
   "metadata": {},
   "outputs": [
    {
     "name": "stdout",
     "output_type": "stream",
     "text": [
      "Pedro Castellanos Maestro\n"
     ]
    }
   ],
   "source": [
    "text = \"pedro castellanos maestro\"\n",
    "\n",
    "print(text.title())"
   ]
  },
  {
   "cell_type": "code",
   "execution_count": 8,
   "metadata": {},
   "outputs": [
    {
     "name": "stdout",
     "output_type": "stream",
     "text": [
      "PEDRO CASTELLANOS MAESTRO\n"
     ]
    }
   ],
   "source": [
    "print(text.upper())"
   ]
  },
  {
   "cell_type": "code",
   "execution_count": 10,
   "metadata": {},
   "outputs": [
    {
     "name": "stdout",
     "output_type": "stream",
     "text": [
      "este es un texto acentuado en todas partes\n"
     ]
    }
   ],
   "source": [
    "### metodo para cambiar unos coracteres por otros dentro de un string ###\n",
    "\n",
    "string =\"éste és ún téxtó ácéntúádó én tódás pártés\"\n",
    "\n",
    "tabla = string.maketrans(\"áéíóú\", \"aeiou\")\n",
    "\n",
    "print(string.translate(tabla))"
   ]
  },
  {
   "cell_type": "code",
   "execution_count": 12,
   "metadata": {},
   "outputs": [
    {
     "name": "stdout",
     "output_type": "stream",
     "text": [
      "este es un texto acentuado en todas partes\n"
     ]
    }
   ],
   "source": [
    "#### Normalizamos un texto quitando palabras acentuadas y mayusculas ####\n",
    "\n",
    "string =\"éstE és ún téxtó ácéntúádO én tódás pártés\"\n",
    "\n",
    "tabla = string.maketrans(\"áéíóú\", \"aeiou\")\n",
    "\n",
    "string2 = string.translate(tabla)\n",
    "\n",
    "print(string2.lower())"
   ]
  },
  {
   "cell_type": "code",
   "execution_count": 13,
   "metadata": {},
   "outputs": [
    {
     "name": "stdout",
     "output_type": "stream",
     "text": [
      "este es un texto acentuado en todas partes\n"
     ]
    }
   ],
   "source": [
    "#### Ahora en un solo paso ######\n",
    "\n",
    "string =\"éstE és ún téxtó ácéntúádO én tódás pártés\"\n",
    "\n",
    "tabla = string.maketrans(\"áéíóúABCDEFGHIJKLMNÑOPQRSTUVWXYZ\", \"aeiouabcdefghijklmnñopqrstuvwxyz\")\n",
    "\n",
    "print(string.translate(tabla))"
   ]
  },
  {
   "cell_type": "code",
   "execution_count": 4,
   "metadata": {},
   "outputs": [
    {
     "name": "stdin",
     "output_type": "stream",
     "text": [
      "Adivina el nombre del animal :  perro\n"
     ]
    },
    {
     "name": "stdout",
     "output_type": "stream",
     "text": [
      "Vuelve a intentarlo....\n"
     ]
    },
    {
     "name": "stdin",
     "output_type": "stream",
     "text": [
      "Adivina el nombre del animal :  gato\n"
     ]
    },
    {
     "name": "stdout",
     "output_type": "stream",
     "text": [
      "Vuelve a intentarlo....\n"
     ]
    },
    {
     "name": "stdin",
     "output_type": "stream",
     "text": [
      "Adivina el nombre del animal :  paloma\n"
     ]
    },
    {
     "name": "stdout",
     "output_type": "stream",
     "text": [
      "Vuelve a intentarlo....\n"
     ]
    },
    {
     "name": "stdin",
     "output_type": "stream",
     "text": [
      "Adivina el nombre del animal :  gallina\n"
     ]
    },
    {
     "name": "stdout",
     "output_type": "stream",
     "text": [
      "Acertaste !!!!\n"
     ]
    }
   ],
   "source": [
    "### Juego para adivinar el nombre de un animal con 5 oportunidades ###\n",
    "\n",
    "jugar = True\n",
    "\n",
    "i = 0\n",
    "\n",
    "nombreAnim = \"gallina\"\n",
    "\n",
    "while jugar:\n",
    "    i = i + 1\n",
    "    if i < 6:\n",
    "        nombre = input(\"Adivina el nombre del animal : \")\n",
    "        if nombre == nombreAnim:        \n",
    "            print(\"Acertaste !!!!\")\n",
    "            jugar = False\n",
    "        else:\n",
    "            print(\"Vuelve a intentarlo....\")\n",
    "    else:\n",
    "        print(\"Agotaste tus oportunidades\")\n",
    "        jugar = False\n",
    "    "
   ]
  },
  {
   "cell_type": "code",
   "execution_count": 1,
   "metadata": {},
   "outputs": [
    {
     "name": "stdout",
     "output_type": "stream",
     "text": [
      "<class 'str'>\n",
      "\n",
      "\n",
      "['En', 'un', 'lugar', 'de', 'la', 'Mancha,', 'de', 'cuyo', 'nombre', 'no', 'quiero', 'acordarme']\n",
      "\n",
      "\n",
      "Elemeno 2 de la lista =  lugar\n",
      "\n",
      "\n",
      "['En un lugar de la Mancha', ' de cuyo nombre no quiero acordarme']\n",
      "\n",
      "\n",
      "['En un lug', 'r de l', ' M', 'nch', ', de cuyo nombre no quiero ', 'cord', 'rme']\n",
      "\n",
      "\n",
      "r\n",
      "\n",
      "\n",
      "En un lugar de la \n",
      "\n",
      "\n",
      "Mancha, de cuyo nombre no quiero acordarme\n",
      "\n",
      "\n",
      "En un lugar de la Mancha, de cuyo nombre no quiero acord\n",
      "\n",
      "\n",
      "arme\n",
      "\n",
      "\n",
      "En un lugAr de lA MAnchA, de cuyo nombre no quiero AcordArme\n",
      "\n",
      "\n",
      "18\n",
      "\n",
      "\n",
      "-1\n",
      "\n",
      "\n",
      "9\n",
      "\n",
      "\n",
      "56\n",
      "\n",
      "\n",
      "en un lugar de la mancha, de cuyo nombre no quiero acordarme\n",
      "\n",
      "\n",
      "EN UN LUGAR DE LA MANCHA, DE CUYO NOMBRE NO QUIERO ACORDARME\n",
      "\n",
      "\n",
      "6\n",
      "\n",
      "\n",
      "4\n",
      "\n",
      "\n",
      "2\n",
      "\n",
      "\n",
      "60\n",
      "\n",
      "\n",
      "60\n",
      "\n",
      "\n",
      "Lugar\n",
      "\n",
      "\n",
      "En Un Lugar De La Mancha, De Cuyo Nombre No Quiero Acordarme\n",
      "\n",
      "\n",
      "True\n",
      "\n",
      "\n",
      "False\n",
      "\n",
      "\n",
      "False\n",
      "\n",
      "\n",
      "True\n",
      "\n",
      "\n",
      "False\n"
     ]
    }
   ],
   "source": [
    "CadenaTexto =\"En un lugar de la Mancha, de cuyo nombre no quiero acordarme\"\n",
    "\n",
    "print(type(CadenaTexto))  ## La función type nos indica el tipo de clase del objeto\n",
    "print(\"\\n\")\n",
    "print(CadenaTexto.split()) ## El método split de la clase str trozea un string creando una lista separando por espacios\n",
    "print(\"\\n\")\n",
    "print(\"Elemeno 2 de la lista = \", CadenaTexto.split()[2]) ## Muestra el elemento 2 de la lista creada con split\n",
    "print(\"\\n\")\n",
    "print(CadenaTexto.split(sep=\",\")) ## Ahora el split crea la lista con los elementos separados por comas dentro del string\n",
    "print(\"\\n\")\n",
    "print(CadenaTexto.split(sep=\"a\")) ## Ahora el split crea la lista con los elementos separados por la letra \"a\" dentro del string\n",
    "print(\"\\n\")\n",
    "print(CadenaTexto[10]) ## Dentro del string,  obtenemos el caracter en la posición 10 (siempre empezando por 0)\n",
    "print(\"\\n\")\n",
    "print(CadenaTexto[0:18]) ## Ahora se muestra desde el caracter de la posición 0 al de la posición 17\n",
    "print(\"\\n\")\n",
    "print(CadenaTexto[18:]) ## Ahora se muestra desde el caracter de la posición 18 hasta el final\n",
    "print(\"\\n\")\n",
    "print(CadenaTexto[:-4]) ##Ahora se muestra todo el string, salvo las 5 últimas posiciones\n",
    "print(\"\\n\")\n",
    "print(CadenaTexto[-4:]) ##Ahora se muestran las 5 últimas posiciones del string\n",
    "print(\"\\n\")\n",
    "print(CadenaTexto.replace(\"a\", \"A\")) ##Con el método replace reemplazamos un string por otro\n",
    "print(\"\\n\")\n",
    "print(CadenaTexto.find(\"Mancha\")) ## El método find devuelve la posición del primer caracter de la palabra que buscamos\n",
    "print(\"\\n\")\n",
    "print(CadenaTexto.find(\"mancha\")) ## En este caso devuelve -1 porque no encuentra la palabra con minúscula\n",
    "print(\"\\n\")\n",
    "print(CadenaTexto.find(\"a\")) ## En el string hay varias \"a\" , pero find devuelve la posición de la primera que encuentra\n",
    "print(\"\\n\")\n",
    "print(CadenaTexto.rfind(\"a\")) ## En el string hay varias \"a\" , pero rfind devuelve la posición de la primera que encuentra empezando por la derecha\n",
    "print(\"\\n\")\n",
    "print(CadenaTexto.lower()) ## El método lower cambia las mayúsculas por minúsculas\n",
    "print(\"\\n\")\n",
    "print(CadenaTexto.upper()) ## El método lower cambia las minúsculas por mayúsculas\n",
    "print(\"\\n\")\n",
    "print(CadenaTexto.count(\"a\"))## El método count cuenta cuantas veces aparece un caracter en un string\n",
    "print(\"\\n\")\n",
    "print(CadenaTexto.count(\"a\", 18)) ## Ahora cuenta desde la posición 18\n",
    "print(\"\\n\")\n",
    "print(CadenaTexto[0:19].count(\"a\")) ## Ahora contamos hasta la posición 18, acotando con un substring\n",
    "print(\"\\n\")\n",
    "print(len(CadenaTexto)) ## La función len cuenta el total de caracteres de un string\n",
    "print(\"\\n\")\n",
    "print(CadenaTexto.__len__()) ## Lo mismo ,  pero usando el método __len__ de la clase str\n",
    "print(\"\\n\")\n",
    "print(CadenaTexto.split()[2].capitalize()) ## Cogemos el segundo elemento de la lista creada por split y le ponemos la primera letra en mayúscula con el método capitalize\n",
    "print(\"\\n\")\n",
    "print(CadenaTexto.title()) ## El método title pone en mayúscula el primera caracter de todas las palabras del string\n",
    "print(\"\\n\")\n",
    "print(CadenaTexto.__contains__(\"Mancha\")) ## El método __contains__ es booleano,  devuelve True o False\n",
    "print(\"\\n\")\n",
    "print(CadenaTexto.isdigit()) ## El método isdigit es booleano,  devuelve True o False , comprueba si el string son números\n",
    "print(\"\\n\")\n",
    "print(CadenaTexto.isalnum())## El método isalnum es booleano, devuelve True o False, comprueba si el string es alfanumérico\n",
    "print(\"\\n\")\n",
    "print(CadenaTexto.isascii())## El método isascii es booleano, devuelve True o False, comprueba si el string es ascii\n",
    "print(\"\\n\")\n",
    "CadenaNoImprimible = \"En un lugar \\a\"\n",
    "print(CadenaNoImprimible.isprintable()) ## El método isprintable indica si el string tiene algún caracter que no se puede imprimir"
   ]
  },
  {
   "cell_type": "code",
   "execution_count": null,
   "metadata": {},
   "outputs": [],
   "source": []
  }
 ],
 "metadata": {
  "kernelspec": {
   "display_name": "Python 3",
   "language": "python",
   "name": "python3"
  },
  "language_info": {
   "codemirror_mode": {
    "name": "ipython",
    "version": 3
   },
   "file_extension": ".py",
   "mimetype": "text/x-python",
   "name": "python",
   "nbconvert_exporter": "python",
   "pygments_lexer": "ipython3",
   "version": "3.7.4"
  }
 },
 "nbformat": 4,
 "nbformat_minor": 4
}
