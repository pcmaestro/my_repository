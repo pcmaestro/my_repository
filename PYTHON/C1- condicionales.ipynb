{
 "cells": [
  {
   "cell_type": "code",
   "execution_count": 1,
   "metadata": {},
   "outputs": [
    {
     "name": "stdout",
     "output_type": "stream",
     "text": [
      "Dame un valor dentre 1 y 20 : 15\n",
      "El valor es mayor que 9\n"
     ]
    }
   ],
   "source": [
    "valor = int(input(\"Dame un valor dentre 1 y 20 : \"))\n",
    "if valor >= 10:\n",
    "    print(\"El valor es mayor que 9\")\n",
    "else:\n",
    "    print(\"El valor es menor que 10\")"
   ]
  },
  {
   "cell_type": "code",
   "execution_count": 2,
   "metadata": {},
   "outputs": [
    {
     "name": "stdout",
     "output_type": "stream",
     "text": [
      "Dame un valor entre 0 y 40 : 27\n",
      "El valor está entre 20 y 30\n"
     ]
    }
   ],
   "source": [
    "valor = int(input(\"Dame un valor entre 0 y 40 : \"))\n",
    "\n",
    "if valor > 0 and valor <=10:\n",
    "    print(\"El valor está entre 0 y 10\")\n",
    "elif valor > 10 and valor <= 20:\n",
    "    print(\"El valor está entre 10 y 20\")\n",
    "elif valor > 20 and valor <= 30:\n",
    "    print(\"El valor está entre 20 y 30\")\n",
    "elif valor > 30 and valor <=40:\n",
    "    print(\"El valor está entre 30 y 40\")\n",
    "else:\n",
    "    print(\"El núnero no está entre 0 y 40\")"
   ]
  },
  {
   "cell_type": "code",
   "execution_count": null,
   "metadata": {},
   "outputs": [],
   "source": []
  }
 ],
 "metadata": {
  "kernelspec": {
   "display_name": "Python 3",
   "language": "python",
   "name": "python3"
  },
  "language_info": {
   "codemirror_mode": {
    "name": "ipython",
    "version": 3
   },
   "file_extension": ".py",
   "mimetype": "text/x-python",
   "name": "python",
   "nbconvert_exporter": "python",
   "pygments_lexer": "ipython3",
   "version": "3.7.4"
  }
 },
 "nbformat": 4,
 "nbformat_minor": 2
}
